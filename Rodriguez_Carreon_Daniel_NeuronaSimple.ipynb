{
  "nbformat": 4,
  "nbformat_minor": 0,
  "metadata": {
    "colab": {
      "provenance": [],
      "authorship_tag": "ABX9TyNk8CJKuHy7uMPQhSbHhS1W",
      "include_colab_link": true
    },
    "kernelspec": {
      "name": "python3",
      "display_name": "Python 3"
    },
    "language_info": {
      "name": "python"
    }
  },
  "cells": [
    {
      "cell_type": "markdown",
      "metadata": {
        "id": "view-in-github",
        "colab_type": "text"
      },
      "source": [
        "<a href=\"https://colab.research.google.com/github/DanieelRC/RNyAP/blob/main/Rodriguez_Carreon_Daniel_NeuronaSimple.ipynb\" target=\"_parent\"><img src=\"https://colab.research.google.com/assets/colab-badge.svg\" alt=\"Open In Colab\"/></a>"
      ]
    },
    {
      "cell_type": "markdown",
      "source": [
        "Rodríguez Carreón Daniel        19 de septiembre de 2025"
      ],
      "metadata": {
        "id": "6unFQGO2bd3N"
      }
    },
    {
      "cell_type": "code",
      "execution_count": 1,
      "metadata": {
        "id": "i0Qn47JBbMri"
      },
      "outputs": [],
      "source": [
        "# Cargamos paquetes\n",
        "import numpy as np"
      ]
    },
    {
      "cell_type": "code",
      "source": [
        "# TODO (1 punto): Implementar la función de activación.\n",
        "def sigmoide(h):\n",
        "    sg = 1 / (1 + np.exp(-h))\n",
        "    return sg"
      ],
      "metadata": {
        "id": "UTSxMFrBbqbv"
      },
      "execution_count": 2,
      "outputs": []
    },
    {
      "cell_type": "code",
      "source": [
        "# TODO (1 punto): Implementar la clase Neurona\n",
        "class Neurona:\n",
        "    def __init__(self, W, b, activacion):\n",
        "        self.W = W\n",
        "        self.b = b\n",
        "        self.activacion = activacion\n",
        "\n",
        "    def combinacion_lineal(self, X):\n",
        "        h = np.dot(self.W, X) + self.b\n",
        "        return h\n",
        "\n",
        "    def forward(self, X):\n",
        "        h = self.combinacion_lineal(X)\n",
        "        return self.activacion(h)"
      ],
      "metadata": {
        "id": "rIDwkzBAbtH7"
      },
      "execution_count": 3,
      "outputs": []
    },
    {
      "cell_type": "code",
      "source": [
        "# Definamos unos pesos y sesgo\n",
        "inputs = np.array([0.7, -0.3])\n",
        "pesos = np.array([0.1, 0.8])\n",
        "sesgo = -0.1\n",
        "\n",
        "clasificador_log = Neurona(pesos, sesgo, sigmoide)\n",
        "\n",
        "# Hacemos una predicción\n",
        "output = clasificador_log.forward(inputs)\n",
        "print(f'Output: {output:.4f}')"
      ],
      "metadata": {
        "colab": {
          "base_uri": "https://localhost:8080/"
        },
        "id": "V6-7mK0Sbvzd",
        "outputId": "f9f5deab-f793-490c-c970-e909325b91bb"
      },
      "execution_count": 9,
      "outputs": [
        {
          "output_type": "stream",
          "name": "stdout",
          "text": [
            "Output: 0.4329\n"
          ]
        }
      ]
    },
    {
      "cell_type": "markdown",
      "source": [
        "**Pruebas extra**\n",
        "Define una función de activación tangente hiperbólica. (1 punto)"
      ],
      "metadata": {
        "id": "CEJ0jHJSb1oc"
      }
    },
    {
      "cell_type": "code",
      "source": [
        "def tanh(h):\n",
        "    tanh = (np.exp(h) - np.exp(-h)) / (np.exp(h) + np.exp(-h))\n",
        "    return tanh\n",
        "\n",
        "clasificador_log_2 = Neurona(pesos, sesgo, tanh)\n",
        "output2 = clasificador_log_2.forward(inputs)\n",
        "print(f'Output: {output2:.4f}')"
      ],
      "metadata": {
        "colab": {
          "base_uri": "https://localhost:8080/"
        },
        "id": "ONzEy_EVdjaf",
        "outputId": "339eb2fd-d4b0-4393-a78c-6f71d84b1f44"
      },
      "execution_count": 11,
      "outputs": [
        {
          "output_type": "stream",
          "name": "stdout",
          "text": [
            "Output: -0.2636\n"
          ]
        }
      ]
    },
    {
      "cell_type": "markdown",
      "source": [
        "Contesta: ¿La tanh y sigmoide producen las mismas salidas? (1 punto)\n",
        "\n",
        "No producen las mismas salidas, esto debido a que el rango de la función sigmoide es (0,1), mientras que el rango de la funcion tanh es de (-1,1), podemos decir que la función sigmoide esta normalizada para dar valores positivos mientras que la función tanh si permite valores negativos.\n",
        "\n"
      ],
      "metadata": {
        "id": "KZ95j8Nnb-i4"
      }
    }
  ]
}