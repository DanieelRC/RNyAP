{
  "nbformat": 4,
  "nbformat_minor": 0,
  "metadata": {
    "colab": {
      "provenance": [],
      "authorship_tag": "ABX9TyMSkAsAxWNAsu1tadw0h1sv",
      "include_colab_link": true
    },
    "kernelspec": {
      "name": "python3",
      "display_name": "Python 3"
    },
    "language_info": {
      "name": "python"
    }
  },
  "cells": [
    {
      "cell_type": "markdown",
      "metadata": {
        "id": "view-in-github",
        "colab_type": "text"
      },
      "source": [
        "<a href=\"https://colab.research.google.com/github/DanieelRC/RNyAP/blob/main/perceptron.ipynb\" target=\"_parent\"><img src=\"https://colab.research.google.com/assets/colab-badge.svg\" alt=\"Open In Colab\"/></a>"
      ]
    },
    {
      "cell_type": "code",
      "source": [
        "import numpy as np"
      ],
      "metadata": {
        "id": "RFf8m1MeUkmW"
      },
      "execution_count": 36,
      "outputs": []
    },
    {
      "cell_type": "markdown",
      "source": [
        "Calcular producto punto"
      ],
      "metadata": {
        "id": "fd-nzcP4dyuY"
      }
    },
    {
      "cell_type": "code",
      "execution_count": 37,
      "metadata": {
        "id": "FpM_M0Gz898-"
      },
      "outputs": [],
      "source": [
        "def combinacion_lineal(W, X, b):\n",
        "    suma = 0\n",
        "    for w, x in zip(W, X):\n",
        "        suma += w*x\n",
        "    return suma + b"
      ]
    },
    {
      "cell_type": "markdown",
      "source": [
        "Función de activación"
      ],
      "metadata": {
        "id": "owHVYjMZdvgh"
      }
    },
    {
      "cell_type": "code",
      "source": [
        "def escalon(h,a):\n",
        "  if h < a:\n",
        "    return 0\n",
        "  else:\n",
        "    return 1"
      ],
      "metadata": {
        "id": "O0Xyos5qSzhW"
      },
      "execution_count": 38,
      "outputs": []
    },
    {
      "cell_type": "markdown",
      "source": [
        "Definir perceptrón"
      ],
      "metadata": {
        "id": "k_sTEJzydsoa"
      }
    },
    {
      "cell_type": "code",
      "source": [
        "# Perceptrón simple\n",
        "def perceptron(W, X, b, a, activacion):\n",
        "    h = combinacion_lineal(W, X, b)\n",
        "    return activacion(h,a)"
      ],
      "metadata": {
        "id": "FeaTMufwUH1p"
      },
      "execution_count": 39,
      "outputs": []
    },
    {
      "cell_type": "markdown",
      "source": [
        "Probar inferencia"
      ],
      "metadata": {
        "id": "NL3GdcfmeJgU"
      }
    },
    {
      "cell_type": "code",
      "source": [
        "# Definamos unos pesos y sesgo\n",
        "inputs = np.array([0.7, -0.3])\n",
        "weights = np.array([0.1, 0.8])\n",
        "bias = -0.1\n",
        "\n",
        "# Pasada frontal\n",
        "activacion = escalon #definir la función a usar\n",
        "output = perceptron(weights, inputs, bias, 0.5, activacion)\n",
        "\n",
        "print('Output:')\n",
        "print(output)"
      ],
      "metadata": {
        "colab": {
          "base_uri": "https://localhost:8080/",
          "height": 0
        },
        "id": "ZU-zDTDaUjGW",
        "outputId": "59c691f6-0150-4c9c-9c52-6f71e26b5ed2"
      },
      "execution_count": 40,
      "outputs": [
        {
          "output_type": "stream",
          "name": "stdout",
          "text": [
            "Output:\n",
            "0\n"
          ]
        }
      ]
    },
    {
      "cell_type": "markdown",
      "source": [
        "Realizar el pase frontal y encuentra por prueba y error los pesos que concuerdan con la función OR"
      ],
      "metadata": {
        "id": "kSE50CcjXsSK"
      }
    },
    {
      "cell_type": "code",
      "source": [
        "#Pesos y bias sugeridos\n",
        "weights = np.array([0.5, 0.5])\n",
        "bias = 0.1\n",
        "activacion = escalon\n",
        "#Combinacion 0 0\n",
        "inputs = np.array([0, 0])\n",
        "output = perceptron(weights, inputs, bias, 0.5, activacion)\n",
        "print('Output 0 y 0:')\n",
        "print(output)\n",
        "#Combinacion 0 1\n",
        "inputs = np.array([0, 1])\n",
        "output = perceptron(weights, inputs, bias, 0.5, activacion)\n",
        "print('Output 0 y 1:')\n",
        "print(output)\n",
        "#Combinacion 1 0\n",
        "inputs = np.array([1, 0])\n",
        "output = perceptron(weights, inputs, bias, 0.5, activacion)\n",
        "print('Output 1 y 0:')\n",
        "print(output)\n",
        "#Combinacion 1 1\n",
        "inputs = np.array([1, 1])\n",
        "output = perceptron(weights, inputs, bias, 0.5, activacion)\n",
        "print('Output 1 y 1:')\n",
        "print(output)"
      ],
      "metadata": {
        "colab": {
          "base_uri": "https://localhost:8080/",
          "height": 0
        },
        "id": "PTU7PVTZXvt7",
        "outputId": "a3c95462-c4b6-40f2-ecc8-be1b28019839"
      },
      "execution_count": 41,
      "outputs": [
        {
          "output_type": "stream",
          "name": "stdout",
          "text": [
            "Output 0 y 0:\n",
            "0\n",
            "Output 0 y 1:\n",
            "1\n",
            "Output 1 y 0:\n",
            "1\n",
            "Output 1 y 1:\n",
            "1\n"
          ]
        }
      ]
    }
  ]
}