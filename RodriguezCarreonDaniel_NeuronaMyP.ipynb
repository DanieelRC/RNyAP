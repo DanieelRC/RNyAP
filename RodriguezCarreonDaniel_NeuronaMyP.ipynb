{
  "nbformat": 4,
  "nbformat_minor": 0,
  "metadata": {
    "colab": {
      "provenance": [],
      "authorship_tag": "ABX9TyN/8JFRfg75FjZ9D3NkjhLW",
      "include_colab_link": true
    },
    "kernelspec": {
      "name": "python3",
      "display_name": "Python 3"
    },
    "language_info": {
      "name": "python"
    }
  },
  "cells": [
    {
      "cell_type": "markdown",
      "metadata": {
        "id": "view-in-github",
        "colab_type": "text"
      },
      "source": [
        "<a href=\"https://colab.research.google.com/github/DanieelRC/RNyAP/blob/main/RodriguezCarreonDaniel_NeuronaMyP.ipynb\" target=\"_parent\"><img src=\"https://colab.research.google.com/assets/colab-badge.svg\" alt=\"Open In Colab\"/></a>"
      ]
    },
    {
      "cell_type": "markdown",
      "source": [
        "Rodríguez Carreón Daniel; 29 de agosto de 2025\n",
        "\n",
        "Algoritmo de una neurona de MyP:\n",
        "\n",
        "Inputs: E, I y u\n",
        "\n",
        "Definimos suma = 0\n",
        "\n",
        "Para cada i perteneciente a I\n",
        "\n",
        "Si i == 1 entonces return 0\n",
        "\n",
        "Para cada e perteneciente a E\n",
        "\n",
        "suma = suma + e\n",
        "\n",
        "if suma >= u entonces return 1\n",
        "sino return 0"
      ],
      "metadata": {
        "id": "DcyAooHpOFfD"
      }
    },
    {
      "cell_type": "code",
      "source": [
        "# TODO: (2 puntos) Implemente la función del modelo M&P, no use funciones predefinidas de numpy\n",
        "def neuronaMyP(E,I,u):\n",
        "    suma = 0\n",
        "    for i in I:\n",
        "      if i == 1:\n",
        "        return 0\n",
        "    for e in E:\n",
        "      suma += e\n",
        "    if suma >= u:\n",
        "      return 1\n",
        "    else:\n",
        "      return 0"
      ],
      "metadata": {
        "id": "2xWRX7_1Svyx"
      },
      "execution_count": 2,
      "outputs": []
    },
    {
      "cell_type": "code",
      "source": [
        "# suponga\n",
        "E = [1]\n",
        "I = [0]\n",
        "u = 1\n",
        "\n",
        "# Calcule la salida de la neurona y verfique si es correcto\n",
        "\n",
        "print('El resultado es: ', neuronaMyP(E,I,u))"
      ],
      "metadata": {
        "colab": {
          "base_uri": "https://localhost:8080/",
          "height": 0
        },
        "id": "iDjoC7ImTqv7",
        "outputId": "d79792ea-3acc-4448-e295-881fa293868a"
      },
      "execution_count": 3,
      "outputs": [
        {
          "output_type": "stream",
          "name": "stdout",
          "text": [
            "El resultado es:  1\n"
          ]
        }
      ]
    },
    {
      "cell_type": "markdown",
      "source": [
        "Comprobación:\n",
        "\n",
        "e1= 1, i1=0, u=1\n",
        "\n",
        "i1 =! 1 por lo tanto no se inhibe\n",
        "\n",
        "e1 >= u por lo tanto se activa y la salida es 1"
      ],
      "metadata": {
        "id": "vb6uHvRYUe1b"
      }
    },
    {
      "cell_type": "code",
      "source": [
        "# TODO: (1 punto) Implemente un programa que reciba vectores arbitrarios de E, I y u y devuelva la salida de la neurona.\n",
        "\n",
        "E = input(\"Introduce los valores del vector E separados por comas: \")\n",
        "E = [int(x) for x in E.split(\",\")]\n",
        "print(\"Valor de E:\", E)\n",
        "\n",
        "I = input(\"Introduce los valores del vector I separados por comas: \")\n",
        "I = [int(x) for x in I.split(\",\")]\n",
        "print(\"Valor de I:\", I)\n",
        "\n",
        "u = int(input(\"Introduce el valor de u: \"))\n",
        "print(\"Valor de u:\", u)\n",
        "\n",
        "print('El resultado de la neurona es: ', neuronaMyP(E,I,u))\n"
      ],
      "metadata": {
        "colab": {
          "base_uri": "https://localhost:8080/"
        },
        "id": "bHKp4GikVRr-",
        "outputId": "3f95a901-4c47-4d31-f234-c600263e2f94"
      },
      "execution_count": 14,
      "outputs": [
        {
          "output_type": "stream",
          "name": "stdout",
          "text": [
            "Introduce los valores del vector E separados por comas: 1,1,1\n",
            "Valor de E: [1, 1, 1]\n",
            "Introduce los valores del vector I separados por comas: 0,0\n",
            "Valor de I: [0, 0]\n",
            "Introduce el valor de u: 4\n",
            "Valor de u: 4\n",
            "El resultado de la neurona es:  0\n"
          ]
        }
      ]
    }
  ]
}