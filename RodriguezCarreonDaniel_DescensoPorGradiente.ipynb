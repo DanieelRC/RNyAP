{
  "nbformat": 4,
  "nbformat_minor": 0,
  "metadata": {
    "colab": {
      "provenance": [],
      "authorship_tag": "ABX9TyOeQH8HI5M6rfssVbcS41AS",
      "include_colab_link": true
    },
    "kernelspec": {
      "name": "python3",
      "display_name": "Python 3"
    },
    "language_info": {
      "name": "python"
    }
  },
  "cells": [
    {
      "cell_type": "markdown",
      "metadata": {
        "id": "view-in-github",
        "colab_type": "text"
      },
      "source": [
        "<a href=\"https://colab.research.google.com/github/DanieelRC/RNyAP/blob/main/RodriguezCarreonDaniel_DescensoPorGradiente.ipynb\" target=\"_parent\"><img src=\"https://colab.research.google.com/assets/colab-badge.svg\" alt=\"Open In Colab\"/></a>"
      ]
    },
    {
      "cell_type": "markdown",
      "source": [
        "Rodriguez Carreón Daniel  03 de Octubre de 2025"
      ],
      "metadata": {
        "id": "pjyhSU3PjVJd"
      }
    },
    {
      "cell_type": "code",
      "execution_count": 72,
      "metadata": {
        "id": "MB_7SrUecfx1"
      },
      "outputs": [],
      "source": [
        "# importamos los paquete necesarios\n",
        "import numpy as np\n",
        "import nni\n",
        "\n",
        "# cargamos datos de ejemplo\n",
        "from data_prep import features, targets, features_test, targets_test\n",
        "\n",
        "n_records, n_features = features.shape\n",
        "last_loss = None\n",
        "\n",
        "# En este ejercicio por propósitos de analizar las salidas utilizaremos la misma semilla para los números aleatorios.\n",
        "np.random.seed(42)"
      ]
    },
    {
      "cell_type": "code",
      "source": [
        "# Initialize weights.\n",
        "weights = np.random.normal(scale=1 / n_features**.5, size=n_features)\n",
        "bias = np.zeros(1)\n",
        "\n",
        "# Definimos la neurona\n",
        "from nni.models import Neurona\n",
        "from nni.functions import sigmoid\n",
        "\n",
        "nodo = Neurona(weights, bias, nni.functions.sigmoid)"
      ],
      "metadata": {
        "id": "q8I9o2mcjUjS"
      },
      "execution_count": 73,
      "outputs": []
    },
    {
      "cell_type": "code",
      "source": [
        "# número de épocas\n",
        "epochs = 1000\n",
        "\n",
        "# tasa de aprendizaje\n",
        "learnrate = 0.0001"
      ],
      "metadata": {
        "id": "btI77ePGjy2P"
      },
      "execution_count": 74,
      "outputs": []
    },
    {
      "cell_type": "code",
      "source": [
        "#TODO (1 punto): Completa el código faltante\n",
        "\n",
        "# Variable para registrar el rendimiento\n",
        "History_loss = []\n",
        "\n",
        "# Algoritmo descenso por gradiente\n",
        "for e in range(epochs):\n",
        "    incremento_w = np.zeros(weights.shape)\n",
        "    # Para todos los renglones de ejemplo, asignar a x la entrada, y a y la salida deseada\n",
        "    for x, y in zip(features.values, targets):\n",
        "        # TODO: calcula la predicción de la red\n",
        "        h = np.dot(x, weights) + bias\n",
        "        output = sigmoid(h)\n",
        "\n",
        "        # TODO: calcula el término de error\n",
        "        error_term = (y - output) * (output*(1-output))\n",
        "\n",
        "        # TODO: calcula el incremento\n",
        "        incremento_w += learnrate*error_term * x\n",
        "        bias += learnrate * error_term\n",
        "\n",
        "    # TODO: Actualiza los pesos\n",
        "    weights += incremento_w\n",
        "    nodo.weights = weights\n",
        "\n",
        "\n",
        "    # Ahora calculemos el error en el conjunto de datos de entrenamiento para registro y visualización\n",
        "    out = nodo.forward(features.values)\n",
        "    loss = np.mean((out - targets) ** 2)\n",
        "    History_loss.append(loss)\n",
        "    if e % (epochs / 10) == 0:\n",
        "        if last_loss and last_loss < loss:\n",
        "            print(\"Train loss: \", loss, \"  WARNING - Loss Increasing\")\n",
        "        else:\n",
        "            print(\"Train loss: \", loss)\n",
        "        last_loss = loss"
      ],
      "metadata": {
        "colab": {
          "base_uri": "https://localhost:8080/",
          "height": 0
        },
        "id": "eYH6AbXNj3tE",
        "outputId": "235c1597-ee69-4fbb-d110-7eaeb28e2c3b"
      },
      "execution_count": 75,
      "outputs": [
        {
          "output_type": "stream",
          "name": "stdout",
          "text": [
            "Train loss:  0.2638721700108315\n",
            "Train loss:  0.2389516661879578\n",
            "Train loss:  0.2240360470499657\n",
            "Train loss:  0.2152403456612215\n",
            "Train loss:  0.2099770896712757\n",
            "Train loss:  0.20673356567725445\n",
            "Train loss:  0.2046594850537748\n",
            "Train loss:  0.20327799331272625\n",
            "Train loss:  0.20231795932954322\n",
            "Train loss:  0.2016220068208228\n"
          ]
        }
      ]
    },
    {
      "cell_type": "code",
      "source": [
        "# Grafica el error conforme avanzaron las épocas del entrenamiento.\n",
        "\n",
        "import matplotlib.pyplot as plt\n",
        "\n",
        "plt.plot(History_loss)\n",
        "plt.title(\"Error durante el entrenamiento\")\n",
        "plt.xlabel(\"Épocas\")\n",
        "plt.ylabel(\"Error\")\n",
        "plt.show()"
      ],
      "metadata": {
        "colab": {
          "base_uri": "https://localhost:8080/",
          "height": 474
        },
        "id": "UmPgfosRm1Js",
        "outputId": "8a2b537a-5d3d-48bc-8705-f1860a3ff985"
      },
      "execution_count": 76,
      "outputs": [
        {
          "output_type": "display_data",
          "data": {
            "text/plain": [
              "<Figure size 640x480 with 1 Axes>"
            ],
            "image/png": "[encoded data removed]"
          },
          "metadata": {}
        }
      ]
    },
    {
      "cell_type": "code",
      "source": [
        "# Cálculo de la exactitud\n",
        "\n",
        "test_out = nodo.forward(features_test)\n",
        "predictions = test_out > 0.5\n",
        "accuracy = np.mean(predictions == targets_test)\n",
        "print(\"Prediction accuracy: {:.3f}\".format(accuracy))"
      ],
      "metadata": {
        "colab": {
          "base_uri": "https://localhost:8080/",
          "height": 0
        },
        "id": "_ypJ24Cwm5Tu",
        "outputId": "7a630f28-fab9-4faf-85a5-943ef8a6f9ed"
      },
      "execution_count": 77,
      "outputs": [
        {
          "output_type": "stream",
          "name": "stdout",
          "text": [
            "Prediction accuracy: 0.775\n"
          ]
        }
      ]
    }
  ]
}